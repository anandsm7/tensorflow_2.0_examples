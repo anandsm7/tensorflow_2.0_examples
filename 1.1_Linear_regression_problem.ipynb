{
 "cells": [
  {
   "cell_type": "code",
   "execution_count": 1,
   "metadata": {},
   "outputs": [
    {
     "data": {
      "text/plain": [
       "'2.0.0'"
      ]
     },
     "execution_count": 1,
     "metadata": {},
     "output_type": "execute_result"
    }
   ],
   "source": [
    "import tensorflow as tf\n",
    "tf.__version__"
   ]
  },
  {
   "cell_type": "code",
   "execution_count": 15,
   "metadata": {
    "collapsed": true
   },
   "outputs": [],
   "source": [
    "import pandas as pd\n",
    "import numpy as np\n",
    "import matplotlib.pyplot as plt\n",
    "from sklearn.preprocessing import StandardScaler"
   ]
  },
  {
   "cell_type": "code",
   "execution_count": 3,
   "metadata": {},
   "outputs": [
    {
     "name": "stdout",
     "output_type": "stream",
     "text": [
      "--2020-04-13 10:52:43--  https://raw.githubusercontent.com/lazyprogrammer/machine_learning_examples/master/tf2.0/moore.csv\n",
      "Resolving raw.githubusercontent.com (raw.githubusercontent.com)... 151.101.156.133\n",
      "Connecting to raw.githubusercontent.com (raw.githubusercontent.com)|151.101.156.133|:443... connected.\n",
      "HTTP request sent, awaiting response... 200 OK\n",
      "Length: 2302 (2.2K) [text/plain]\n",
      "Saving to: ‘moore.csv’\n",
      "\n",
      "moore.csv           100%[===================>]   2.25K  --.-KB/s    in 0s      \n",
      "\n",
      "2020-04-13 10:52:44 (40.1 MB/s) - ‘moore.csv’ saved [2302/2302]\n",
      "\n"
     ]
    }
   ],
   "source": [
    "# Get the data\n",
    "!wget https://raw.githubusercontent.com/lazyprogrammer/machine_learning_examples/master/tf2.0/moore.csv"
   ]
  },
  {
   "cell_type": "code",
   "execution_count": 72,
   "metadata": {},
   "outputs": [
    {
     "data": {
      "text/html": [
       "<div>\n",
       "<style scoped>\n",
       "    .dataframe tbody tr th:only-of-type {\n",
       "        vertical-align: middle;\n",
       "    }\n",
       "\n",
       "    .dataframe tbody tr th {\n",
       "        vertical-align: top;\n",
       "    }\n",
       "\n",
       "    .dataframe thead th {\n",
       "        text-align: right;\n",
       "    }\n",
       "</style>\n",
       "<table border=\"1\" class=\"dataframe\">\n",
       "  <thead>\n",
       "    <tr style=\"text-align: right;\">\n",
       "      <th></th>\n",
       "      <th>0</th>\n",
       "      <th>1</th>\n",
       "    </tr>\n",
       "  </thead>\n",
       "  <tbody>\n",
       "    <tr>\n",
       "      <th>0</th>\n",
       "      <td>1971</td>\n",
       "      <td>2300</td>\n",
       "    </tr>\n",
       "    <tr>\n",
       "      <th>1</th>\n",
       "      <td>1972</td>\n",
       "      <td>3500</td>\n",
       "    </tr>\n",
       "    <tr>\n",
       "      <th>2</th>\n",
       "      <td>1973</td>\n",
       "      <td>2500</td>\n",
       "    </tr>\n",
       "    <tr>\n",
       "      <th>3</th>\n",
       "      <td>1973</td>\n",
       "      <td>2500</td>\n",
       "    </tr>\n",
       "    <tr>\n",
       "      <th>4</th>\n",
       "      <td>1974</td>\n",
       "      <td>4100</td>\n",
       "    </tr>\n",
       "    <tr>\n",
       "      <th>5</th>\n",
       "      <td>1974</td>\n",
       "      <td>4500</td>\n",
       "    </tr>\n",
       "    <tr>\n",
       "      <th>6</th>\n",
       "      <td>1974</td>\n",
       "      <td>8000</td>\n",
       "    </tr>\n",
       "    <tr>\n",
       "      <th>7</th>\n",
       "      <td>1975</td>\n",
       "      <td>3510</td>\n",
       "    </tr>\n",
       "    <tr>\n",
       "      <th>8</th>\n",
       "      <td>1976</td>\n",
       "      <td>5000</td>\n",
       "    </tr>\n",
       "    <tr>\n",
       "      <th>9</th>\n",
       "      <td>1976</td>\n",
       "      <td>8500</td>\n",
       "    </tr>\n",
       "  </tbody>\n",
       "</table>\n",
       "</div>"
      ],
      "text/plain": [
       "      0     1\n",
       "0  1971  2300\n",
       "1  1972  3500\n",
       "2  1973  2500\n",
       "3  1973  2500\n",
       "4  1974  4100\n",
       "5  1974  4500\n",
       "6  1974  8000\n",
       "7  1975  3510\n",
       "8  1976  5000\n",
       "9  1976  8500"
      ]
     },
     "execution_count": 72,
     "metadata": {},
     "output_type": "execute_result"
    }
   ],
   "source": [
    "df = pd.read_csv('moore.csv',header=None)\n",
    "df.head(10)"
   ]
  },
  {
   "cell_type": "code",
   "execution_count": 43,
   "metadata": {},
   "outputs": [
    {
     "data": {
      "text/plain": [
       "numpy.ndarray"
      ]
     },
     "execution_count": 43,
     "metadata": {},
     "output_type": "execute_result"
    }
   ],
   "source": [
    "data = df.values\n",
    "x=data[:,0].reshape(-1,1)\n",
    "y=data[:,1]\n",
    "type(data)"
   ]
  },
  {
   "cell_type": "code",
   "execution_count": 44,
   "metadata": {},
   "outputs": [
    {
     "data": {
      "image/png": "[encoded data removed]",
      "text/plain": [
       "<Figure size 576x396 with 1 Axes>"
      ]
     },
     "metadata": {},
     "output_type": "display_data"
    }
   ],
   "source": [
    "#Here its a exponetial problem\n",
    "plt.style.use('seaborn')\n",
    "plt.Figure(figsize=(16,8))\n",
    "plt.scatter(x,y)\n",
    "plt.show()"
   ]
  },
  {
   "cell_type": "code",
   "execution_count": 45,
   "metadata": {},
   "outputs": [
    {
     "data": {
      "image/png": "[encoded data removed]",
      "text/plain": [
       "<Figure size 576x396 with 1 Axes>"
      ]
     },
     "metadata": {},
     "output_type": "display_data"
    }
   ],
   "source": [
    "#after applying log its a linear problem\n",
    "plt.style.use('seaborn')\n",
    "plt.Figure(figsize=(16,8))\n",
    "plt.scatter(x,np.log(y))\n",
    "plt.show()"
   ]
  },
  {
   "cell_type": "code",
   "execution_count": 46,
   "metadata": {},
   "outputs": [],
   "source": [
    "#Lets scale the feature to make it small\n",
    "X = x-x.mean() \n",
    "Y = np.log(y)"
   ]
  },
  {
   "cell_type": "code",
   "execution_count": 47,
   "metadata": {},
   "outputs": [
    {
     "data": {
      "image/png": "[encoded data removed]",
      "text/plain": [
       "<Figure size 576x396 with 1 Axes>"
      ]
     },
     "metadata": {},
     "output_type": "display_data"
    }
   ],
   "source": [
    "#after applying log its a linear problem\n",
    "plt.style.use('seaborn')\n",
    "plt.Figure(figsize=(16,8))\n",
    "plt.scatter(X,Y)\n",
    "plt.show()"
   ]
  },
  {
   "cell_type": "code",
   "execution_count": 48,
   "metadata": {
    "collapsed": true
   },
   "outputs": [],
   "source": [
    "#Lets build the model\n",
    "model = tf.keras.models.Sequential([\n",
    "    tf.keras.layers.Input(shape=(1,)),\n",
    "    tf.keras.layers.Dense(1)\n",
    "])"
   ]
  },
  {
   "cell_type": "code",
   "execution_count": 49,
   "metadata": {},
   "outputs": [],
   "source": [
    "model.compile(optimizer=tf.keras.optimizers.SGD(0.001,0.9),\n",
    "             loss='mse')"
   ]
  },
  {
   "cell_type": "code",
   "execution_count": 50,
   "metadata": {
    "collapsed": true
   },
   "outputs": [],
   "source": [
    "#lets build a learning rate scheduler\n",
    "def lr_scheduler(epochs,lr):\n",
    "    if epochs>=50:\n",
    "        return 0.0001\n",
    "    return 0.001"
   ]
  },
  {
   "cell_type": "code",
   "execution_count": 51,
   "metadata": {},
   "outputs": [],
   "source": [
    "scheduler = tf.keras.callbacks.LearningRateScheduler(schedule=lr_scheduler)"
   ]
  },
  {
   "cell_type": "code",
   "execution_count": 52,
   "metadata": {},
   "outputs": [
    {
     "name": "stdout",
     "output_type": "stream",
     "text": [
      "Train on 162 samples\n",
      "Epoch 1/200\n",
      "162/162 [==============================] - 1s 7ms/sample - loss: 350.1345\n",
      "Epoch 2/200\n",
      "162/162 [==============================] - 0s 169us/sample - loss: 409.5365\n",
      "Epoch 3/200\n",
      "162/162 [==============================] - 0s 283us/sample - loss: 297.5289\n",
      "Epoch 4/200\n",
      "162/162 [==============================] - 0s 130us/sample - loss: 201.8009\n",
      "Epoch 5/200\n",
      "162/162 [==============================] - 0s 216us/sample - loss: 210.6783\n",
      "Epoch 6/200\n",
      "162/162 [==============================] - 0s 155us/sample - loss: 198.0258\n",
      "Epoch 7/200\n",
      "162/162 [==============================] - 0s 186us/sample - loss: 164.9900\n",
      "Epoch 8/200\n",
      "162/162 [==============================] - 0s 158us/sample - loss: 89.0018\n",
      "Epoch 9/200\n",
      "162/162 [==============================] - 0s 214us/sample - loss: 86.1601\n",
      "Epoch 10/200\n",
      "162/162 [==============================] - 0s 165us/sample - loss: 56.7982\n",
      "Epoch 11/200\n",
      "162/162 [==============================] - 0s 177us/sample - loss: 42.7041\n",
      "Epoch 12/200\n",
      "162/162 [==============================] - 0s 201us/sample - loss: 43.6788\n",
      "Epoch 13/200\n",
      "162/162 [==============================] - 0s 193us/sample - loss: 24.9530\n",
      "Epoch 14/200\n",
      "162/162 [==============================] - 0s 122us/sample - loss: 13.8176\n",
      "Epoch 15/200\n",
      "162/162 [==============================] - 0s 181us/sample - loss: 11.6246\n",
      "Epoch 16/200\n",
      "162/162 [==============================] - 0s 152us/sample - loss: 10.4296\n",
      "Epoch 17/200\n",
      "162/162 [==============================] - 0s 184us/sample - loss: 5.4934\n",
      "Epoch 18/200\n",
      "162/162 [==============================] - 0s 197us/sample - loss: 3.9117\n",
      "Epoch 19/200\n",
      "162/162 [==============================] - 0s 216us/sample - loss: 2.9720\n",
      "Epoch 20/200\n",
      "162/162 [==============================] - 0s 152us/sample - loss: 2.8837\n",
      "Epoch 21/200\n",
      "162/162 [==============================] - 0s 162us/sample - loss: 2.7402\n",
      "Epoch 22/200\n",
      "162/162 [==============================] - 0s 186us/sample - loss: 2.6714\n",
      "Epoch 23/200\n",
      "162/162 [==============================] - 0s 234us/sample - loss: 2.2560\n",
      "Epoch 24/200\n",
      "162/162 [==============================] - 0s 157us/sample - loss: 1.8111\n",
      "Epoch 25/200\n",
      "162/162 [==============================] - 0s 218us/sample - loss: 1.5078\n",
      "Epoch 26/200\n",
      "162/162 [==============================] - 0s 245us/sample - loss: 1.4109\n",
      "Epoch 27/200\n",
      "162/162 [==============================] - 0s 195us/sample - loss: 1.2026\n",
      "Epoch 28/200\n",
      "162/162 [==============================] - 0s 166us/sample - loss: 1.0454\n",
      "Epoch 29/200\n",
      "162/162 [==============================] - 0s 147us/sample - loss: 1.0214\n",
      "Epoch 30/200\n",
      "162/162 [==============================] - 0s 174us/sample - loss: 1.3439\n",
      "Epoch 31/200\n",
      "162/162 [==============================] - 0s 197us/sample - loss: 1.1426\n",
      "Epoch 32/200\n",
      "162/162 [==============================] - 0s 132us/sample - loss: 1.4168\n",
      "Epoch 33/200\n",
      "162/162 [==============================] - 0s 163us/sample - loss: 1.6962\n",
      "Epoch 34/200\n",
      "162/162 [==============================] - 0s 184us/sample - loss: 1.4648\n",
      "Epoch 35/200\n",
      "162/162 [==============================] - 0s 208us/sample - loss: 1.3062\n",
      "Epoch 36/200\n",
      "162/162 [==============================] - 0s 215us/sample - loss: 1.2232\n",
      "Epoch 37/200\n",
      "162/162 [==============================] - 0s 222us/sample - loss: 1.4532\n",
      "Epoch 38/200\n",
      "162/162 [==============================] - 0s 222us/sample - loss: 1.1497\n",
      "Epoch 39/200\n",
      "162/162 [==============================] - 0s 262us/sample - loss: 1.5942\n",
      "Epoch 40/200\n",
      "162/162 [==============================] - 0s 233us/sample - loss: 1.0215\n",
      "Epoch 41/200\n",
      "162/162 [==============================] - 0s 232us/sample - loss: 0.9269\n",
      "Epoch 42/200\n",
      "162/162 [==============================] - 0s 226us/sample - loss: 0.8816\n",
      "Epoch 43/200\n",
      "162/162 [==============================] - 0s 230us/sample - loss: 1.0601\n",
      "Epoch 44/200\n",
      "162/162 [==============================] - 0s 236us/sample - loss: 1.0665\n",
      "Epoch 45/200\n",
      "162/162 [==============================] - 0s 167us/sample - loss: 0.9954\n",
      "Epoch 46/200\n",
      "162/162 [==============================] - 0s 278us/sample - loss: 1.2027\n",
      "Epoch 47/200\n",
      "162/162 [==============================] - 0s 216us/sample - loss: 1.3300\n",
      "Epoch 48/200\n",
      "162/162 [==============================] - 0s 233us/sample - loss: 1.1052\n",
      "Epoch 49/200\n",
      "162/162 [==============================] - 0s 216us/sample - loss: 1.7735\n",
      "Epoch 50/200\n",
      "162/162 [==============================] - 0s 174us/sample - loss: 1.8474\n",
      "Epoch 51/200\n",
      "162/162 [==============================] - 0s 202us/sample - loss: 1.0660\n",
      "Epoch 52/200\n",
      "162/162 [==============================] - 0s 192us/sample - loss: 1.1891\n",
      "Epoch 53/200\n",
      "162/162 [==============================] - 0s 196us/sample - loss: 1.0823\n",
      "Epoch 54/200\n",
      "162/162 [==============================] - 0s 149us/sample - loss: 0.8733\n",
      "Epoch 55/200\n",
      "162/162 [==============================] - 0s 127us/sample - loss: 0.9644\n",
      "Epoch 56/200\n",
      "162/162 [==============================] - 0s 157us/sample - loss: 0.9178\n",
      "Epoch 57/200\n",
      "162/162 [==============================] - 0s 144us/sample - loss: 0.9052\n",
      "Epoch 58/200\n",
      "162/162 [==============================] - 0s 170us/sample - loss: 0.9061\n",
      "Epoch 59/200\n",
      "162/162 [==============================] - 0s 115us/sample - loss: 0.9047\n",
      "Epoch 60/200\n",
      "162/162 [==============================] - 0s 145us/sample - loss: 0.9659\n",
      "Epoch 61/200\n",
      "162/162 [==============================] - 0s 139us/sample - loss: 0.9209\n",
      "Epoch 62/200\n",
      "162/162 [==============================] - 0s 148us/sample - loss: 0.8786\n",
      "Epoch 63/200\n",
      "162/162 [==============================] - 0s 118us/sample - loss: 0.9016\n",
      "Epoch 64/200\n",
      "162/162 [==============================] - 0s 161us/sample - loss: 0.9006\n",
      "Epoch 65/200\n",
      "162/162 [==============================] - 0s 143us/sample - loss: 0.9014\n",
      "Epoch 66/200\n",
      "162/162 [==============================] - 0s 122us/sample - loss: 0.8885\n",
      "Epoch 67/200\n",
      "162/162 [==============================] - 0s 165us/sample - loss: 0.8758\n",
      "Epoch 68/200\n",
      "162/162 [==============================] - 0s 124us/sample - loss: 0.8756\n",
      "Epoch 69/200\n",
      "162/162 [==============================] - 0s 109us/sample - loss: 0.8756\n",
      "Epoch 70/200\n",
      "162/162 [==============================] - 0s 162us/sample - loss: 0.8770\n",
      "Epoch 71/200\n",
      "162/162 [==============================] - 0s 140us/sample - loss: 0.8817\n",
      "Epoch 72/200\n",
      "162/162 [==============================] - 0s 181us/sample - loss: 0.8875\n",
      "Epoch 73/200\n",
      "162/162 [==============================] - 0s 167us/sample - loss: 0.8809\n",
      "Epoch 74/200\n",
      "162/162 [==============================] - 0s 113us/sample - loss: 0.8729\n",
      "Epoch 75/200\n",
      "162/162 [==============================] - 0s 146us/sample - loss: 0.8744\n",
      "Epoch 76/200\n",
      "162/162 [==============================] - 0s 130us/sample - loss: 0.8808\n",
      "Epoch 77/200\n",
      "162/162 [==============================] - 0s 160us/sample - loss: 0.8727\n",
      "Epoch 78/200\n",
      "162/162 [==============================] - 0s 180us/sample - loss: 0.8842\n",
      "Epoch 79/200\n",
      "162/162 [==============================] - 0s 152us/sample - loss: 0.8933\n",
      "Epoch 80/200\n",
      "162/162 [==============================] - 0s 160us/sample - loss: 0.8765\n",
      "Epoch 81/200\n",
      "162/162 [==============================] - 0s 147us/sample - loss: 0.8734\n",
      "Epoch 82/200\n",
      "162/162 [==============================] - 0s 184us/sample - loss: 0.8749\n",
      "Epoch 83/200\n",
      "162/162 [==============================] - 0s 130us/sample - loss: 0.8726\n",
      "Epoch 84/200\n",
      "162/162 [==============================] - 0s 166us/sample - loss: 0.8743\n",
      "Epoch 85/200\n",
      "162/162 [==============================] - 0s 169us/sample - loss: 0.8765\n",
      "Epoch 86/200\n",
      "162/162 [==============================] - 0s 137us/sample - loss: 0.8778\n",
      "Epoch 87/200\n",
      "162/162 [==============================] - 0s 170us/sample - loss: 0.8790\n",
      "Epoch 88/200\n",
      "162/162 [==============================] - 0s 138us/sample - loss: 0.8770\n",
      "Epoch 89/200\n",
      "162/162 [==============================] - 0s 162us/sample - loss: 0.8735\n",
      "Epoch 90/200\n",
      "162/162 [==============================] - 0s 227us/sample - loss: 0.8943\n",
      "Epoch 91/200\n",
      "162/162 [==============================] - 0s 144us/sample - loss: 0.8848\n",
      "Epoch 92/200\n",
      "162/162 [==============================] - 0s 160us/sample - loss: 0.8704\n",
      "Epoch 93/200\n",
      "162/162 [==============================] - 0s 165us/sample - loss: 0.8923\n",
      "Epoch 94/200\n"
     ]
    },
    {
     "name": "stdout",
     "output_type": "stream",
     "text": [
      "162/162 [==============================] - 0s 113us/sample - loss: 0.8685\n",
      "Epoch 95/200\n",
      "162/162 [==============================] - 0s 160us/sample - loss: 0.8961\n",
      "Epoch 96/200\n",
      "162/162 [==============================] - 0s 141us/sample - loss: 0.8768\n",
      "Epoch 97/200\n",
      "162/162 [==============================] - 0s 143us/sample - loss: 0.8751\n",
      "Epoch 98/200\n",
      "162/162 [==============================] - 0s 135us/sample - loss: 0.8824\n",
      "Epoch 99/200\n",
      "162/162 [==============================] - 0s 112us/sample - loss: 0.8872\n",
      "Epoch 100/200\n",
      "162/162 [==============================] - 0s 126us/sample - loss: 0.8775\n",
      "Epoch 101/200\n",
      "162/162 [==============================] - 0s 174us/sample - loss: 0.8739\n",
      "Epoch 102/200\n",
      "162/162 [==============================] - 0s 176us/sample - loss: 0.8839\n",
      "Epoch 103/200\n",
      "162/162 [==============================] - 0s 182us/sample - loss: 0.9074\n",
      "Epoch 104/200\n",
      "162/162 [==============================] - 0s 180us/sample - loss: 0.8974\n",
      "Epoch 105/200\n",
      "162/162 [==============================] - 0s 174us/sample - loss: 0.8717\n",
      "Epoch 106/200\n",
      "162/162 [==============================] - 0s 148us/sample - loss: 0.8827\n",
      "Epoch 107/200\n",
      "162/162 [==============================] - 0s 117us/sample - loss: 0.8819\n",
      "Epoch 108/200\n",
      "162/162 [==============================] - 0s 133us/sample - loss: 0.8734\n",
      "Epoch 109/200\n",
      "162/162 [==============================] - 0s 126us/sample - loss: 0.8730\n",
      "Epoch 110/200\n",
      "162/162 [==============================] - 0s 113us/sample - loss: 0.8754\n",
      "Epoch 111/200\n",
      "162/162 [==============================] - 0s 110us/sample - loss: 0.8745\n",
      "Epoch 112/200\n",
      "162/162 [==============================] - 0s 118us/sample - loss: 0.8707\n",
      "Epoch 113/200\n",
      "162/162 [==============================] - 0s 153us/sample - loss: 0.8791\n",
      "Epoch 114/200\n",
      "162/162 [==============================] - 0s 175us/sample - loss: 0.8811\n",
      "Epoch 115/200\n",
      "162/162 [==============================] - 0s 154us/sample - loss: 0.8719\n",
      "Epoch 116/200\n",
      "162/162 [==============================] - 0s 159us/sample - loss: 0.8720\n",
      "Epoch 117/200\n",
      "162/162 [==============================] - 0s 183us/sample - loss: 0.8790\n",
      "Epoch 118/200\n",
      "162/162 [==============================] - 0s 140us/sample - loss: 0.8722\n",
      "Epoch 119/200\n",
      "162/162 [==============================] - 0s 112us/sample - loss: 0.8924\n",
      "Epoch 120/200\n",
      "162/162 [==============================] - 0s 130us/sample - loss: 0.8682\n",
      "Epoch 121/200\n",
      "162/162 [==============================] - 0s 152us/sample - loss: 0.8896\n",
      "Epoch 122/200\n",
      "162/162 [==============================] - 0s 158us/sample - loss: 0.8746\n",
      "Epoch 123/200\n",
      "162/162 [==============================] - 0s 110us/sample - loss: 0.9074\n",
      "Epoch 124/200\n",
      "162/162 [==============================] - 0s 120us/sample - loss: 0.9209\n",
      "Epoch 125/200\n",
      "162/162 [==============================] - 0s 123us/sample - loss: 0.8858\n",
      "Epoch 126/200\n",
      "162/162 [==============================] - 0s 125us/sample - loss: 0.8799\n",
      "Epoch 127/200\n",
      "162/162 [==============================] - 0s 111us/sample - loss: 0.8714\n",
      "Epoch 128/200\n",
      "162/162 [==============================] - 0s 133us/sample - loss: 0.8717\n",
      "Epoch 129/200\n",
      "162/162 [==============================] - 0s 106us/sample - loss: 0.8768\n",
      "Epoch 130/200\n",
      "162/162 [==============================] - 0s 115us/sample - loss: 0.8755\n",
      "Epoch 131/200\n",
      "162/162 [==============================] - 0s 122us/sample - loss: 0.8748\n",
      "Epoch 132/200\n",
      "162/162 [==============================] - 0s 117us/sample - loss: 0.9023\n",
      "Epoch 133/200\n",
      "162/162 [==============================] - 0s 113us/sample - loss: 0.9040\n",
      "Epoch 134/200\n",
      "162/162 [==============================] - 0s 122us/sample - loss: 0.9006\n",
      "Epoch 135/200\n",
      "162/162 [==============================] - 0s 151us/sample - loss: 0.9140\n",
      "Epoch 136/200\n",
      "162/162 [==============================] - 0s 164us/sample - loss: 0.8732\n",
      "Epoch 137/200\n",
      "162/162 [==============================] - 0s 134us/sample - loss: 0.8781\n",
      "Epoch 138/200\n",
      "162/162 [==============================] - 0s 156us/sample - loss: 0.8921\n",
      "Epoch 139/200\n",
      "162/162 [==============================] - 0s 140us/sample - loss: 0.8737\n",
      "Epoch 140/200\n",
      "162/162 [==============================] - 0s 135us/sample - loss: 0.8852\n",
      "Epoch 141/200\n",
      "162/162 [==============================] - 0s 160us/sample - loss: 0.8876\n",
      "Epoch 142/200\n",
      "162/162 [==============================] - 0s 183us/sample - loss: 0.8769\n",
      "Epoch 143/200\n",
      "162/162 [==============================] - 0s 154us/sample - loss: 0.8702\n",
      "Epoch 144/200\n",
      "162/162 [==============================] - 0s 129us/sample - loss: 0.8711\n",
      "Epoch 145/200\n",
      "162/162 [==============================] - 0s 194us/sample - loss: 0.8811\n",
      "Epoch 146/200\n",
      "162/162 [==============================] - 0s 130us/sample - loss: 0.8847\n",
      "Epoch 147/200\n",
      "162/162 [==============================] - 0s 138us/sample - loss: 0.8792\n",
      "Epoch 148/200\n",
      "162/162 [==============================] - 0s 172us/sample - loss: 0.8767\n",
      "Epoch 149/200\n",
      "162/162 [==============================] - 0s 150us/sample - loss: 0.8923\n",
      "Epoch 150/200\n",
      "162/162 [==============================] - 0s 157us/sample - loss: 0.8860\n",
      "Epoch 151/200\n",
      "162/162 [==============================] - 0s 134us/sample - loss: 0.8831\n",
      "Epoch 152/200\n",
      "162/162 [==============================] - 0s 116us/sample - loss: 0.8761\n",
      "Epoch 153/200\n",
      "162/162 [==============================] - 0s 175us/sample - loss: 0.8714\n",
      "Epoch 154/200\n",
      "162/162 [==============================] - 0s 114us/sample - loss: 0.8754\n",
      "Epoch 155/200\n",
      "162/162 [==============================] - 0s 140us/sample - loss: 0.8932\n",
      "Epoch 156/200\n",
      "162/162 [==============================] - 0s 122us/sample - loss: 0.8902\n",
      "Epoch 157/200\n",
      "162/162 [==============================] - 0s 134us/sample - loss: 0.8796\n",
      "Epoch 158/200\n",
      "162/162 [==============================] - 0s 138us/sample - loss: 0.8824\n",
      "Epoch 159/200\n",
      "162/162 [==============================] - 0s 130us/sample - loss: 0.8864\n",
      "Epoch 160/200\n",
      "162/162 [==============================] - 0s 150us/sample - loss: 0.8877\n",
      "Epoch 161/200\n",
      "162/162 [==============================] - 0s 107us/sample - loss: 0.8856\n",
      "Epoch 162/200\n",
      "162/162 [==============================] - 0s 150us/sample - loss: 0.8765\n",
      "Epoch 163/200\n",
      "162/162 [==============================] - 0s 126us/sample - loss: 0.8685\n",
      "Epoch 164/200\n",
      "162/162 [==============================] - 0s 134us/sample - loss: 0.8702\n",
      "Epoch 165/200\n",
      "162/162 [==============================] - 0s 183us/sample - loss: 0.8715\n",
      "Epoch 166/200\n",
      "162/162 [==============================] - 0s 134us/sample - loss: 0.8719\n",
      "Epoch 167/200\n",
      "162/162 [==============================] - 0s 157us/sample - loss: 0.8780\n",
      "Epoch 168/200\n",
      "162/162 [==============================] - 0s 151us/sample - loss: 0.8750\n",
      "Epoch 169/200\n",
      "162/162 [==============================] - 0s 152us/sample - loss: 0.8776\n",
      "Epoch 170/200\n",
      "162/162 [==============================] - 0s 138us/sample - loss: 0.8764\n",
      "Epoch 171/200\n",
      "162/162 [==============================] - 0s 157us/sample - loss: 0.8752\n",
      "Epoch 172/200\n",
      "162/162 [==============================] - 0s 159us/sample - loss: 0.8844\n",
      "Epoch 173/200\n",
      "162/162 [==============================] - 0s 151us/sample - loss: 0.8697\n",
      "Epoch 174/200\n",
      "162/162 [==============================] - 0s 127us/sample - loss: 0.8834\n",
      "Epoch 175/200\n",
      "162/162 [==============================] - 0s 156us/sample - loss: 0.8760\n",
      "Epoch 176/200\n",
      "162/162 [==============================] - 0s 157us/sample - loss: 0.8723\n",
      "Epoch 177/200\n",
      "162/162 [==============================] - 0s 161us/sample - loss: 0.8707\n",
      "Epoch 178/200\n",
      "162/162 [==============================] - 0s 170us/sample - loss: 0.8718\n",
      "Epoch 179/200\n",
      "162/162 [==============================] - 0s 143us/sample - loss: 0.8714\n",
      "Epoch 180/200\n",
      "162/162 [==============================] - 0s 123us/sample - loss: 0.8723\n",
      "Epoch 181/200\n",
      "162/162 [==============================] - 0s 143us/sample - loss: 0.8747\n",
      "Epoch 182/200\n",
      "162/162 [==============================] - 0s 149us/sample - loss: 0.8715\n",
      "Epoch 183/200\n",
      "162/162 [==============================] - 0s 115us/sample - loss: 0.8726\n",
      "Epoch 184/200\n",
      "162/162 [==============================] - 0s 172us/sample - loss: 0.8722\n",
      "Epoch 185/200\n",
      "162/162 [==============================] - 0s 118us/sample - loss: 0.8719\n",
      "Epoch 186/200\n",
      "162/162 [==============================] - 0s 159us/sample - loss: 0.8710\n",
      "Epoch 187/200\n"
     ]
    },
    {
     "name": "stdout",
     "output_type": "stream",
     "text": [
      "162/162 [==============================] - 0s 130us/sample - loss: 0.8704\n",
      "Epoch 188/200\n",
      "162/162 [==============================] - 0s 163us/sample - loss: 0.8716\n",
      "Epoch 189/200\n",
      "162/162 [==============================] - 0s 143us/sample - loss: 0.8723\n",
      "Epoch 190/200\n",
      "162/162 [==============================] - 0s 126us/sample - loss: 0.8709\n",
      "Epoch 191/200\n",
      "162/162 [==============================] - 0s 156us/sample - loss: 0.8718\n",
      "Epoch 192/200\n",
      "162/162 [==============================] - 0s 112us/sample - loss: 0.8724\n",
      "Epoch 193/200\n",
      "162/162 [==============================] - 0s 127us/sample - loss: 0.8778\n",
      "Epoch 194/200\n",
      "162/162 [==============================] - 0s 132us/sample - loss: 0.8764\n",
      "Epoch 195/200\n",
      "162/162 [==============================] - 0s 165us/sample - loss: 0.8722\n",
      "Epoch 196/200\n",
      "162/162 [==============================] - 0s 126us/sample - loss: 0.8813\n",
      "Epoch 197/200\n",
      "162/162 [==============================] - 0s 129us/sample - loss: 0.8843\n",
      "Epoch 198/200\n",
      "162/162 [==============================] - 0s 142us/sample - loss: 0.8724\n",
      "Epoch 199/200\n",
      "162/162 [==============================] - 0s 148us/sample - loss: 0.8674\n",
      "Epoch 200/200\n",
      "162/162 [==============================] - 0s 142us/sample - loss: 0.8830\n"
     ]
    }
   ],
   "source": [
    "hist = model.fit(X,Y,\n",
    "                 epochs=200,\n",
    "                 callbacks=[scheduler])"
   ]
  },
  {
   "cell_type": "code",
   "execution_count": 53,
   "metadata": {},
   "outputs": [
    {
     "data": {
      "text/plain": [
       "[<matplotlib.lines.Line2D at 0x7f3b3c339240>]"
      ]
     },
     "execution_count": 53,
     "metadata": {},
     "output_type": "execute_result"
    },
    {
     "data": {
      "image/png": "[encoded data removed]",
      "text/plain": [
       "<Figure size 576x396 with 1 Axes>"
      ]
     },
     "metadata": {},
     "output_type": "display_data"
    }
   ],
   "source": [
    "#plotting the loss\n",
    "plt.style.use('seaborn')\n",
    "plt.title('loss')\n",
    "plt.plot(hist.history['loss'])\n"
   ]
  },
  {
   "cell_type": "code",
   "execution_count": 54,
   "metadata": {},
   "outputs": [
    {
     "name": "stdout",
     "output_type": "stream",
     "text": [
      "[<tensorflow.python.keras.layers.core.Dense object at 0x7f3b3c2dd780>]\n",
      "[array([[0.3341153]], dtype=float32), array([17.76507], dtype=float32)]\n"
     ]
    }
   ],
   "source": [
    "#getting the slop of the line\n",
    "print(model.layers)\n",
    "print(model.layers[0].get_weights())\n"
   ]
  },
  {
   "cell_type": "code",
   "execution_count": 57,
   "metadata": {
    "collapsed": true
   },
   "outputs": [],
   "source": [
    "a = model.layers[0].get_weights()[0][0,0]"
   ]
  },
  {
   "cell_type": "markdown",
   "metadata": {},
   "source": [
    "#we need to find rate of change r\n",
    "log C = log r * log t  + log A\n",
    "y = ax+b\n",
    "y = log C,a = log r,x = log t,b = log A\n",
    "\n",
    "a we found = 0.3341\n",
    "exp(a) = 105"
   ]
  },
  {
   "cell_type": "code",
   "execution_count": 58,
   "metadata": {},
   "outputs": [
    {
     "data": {
      "text/plain": [
       "1.3967042"
      ]
     },
     "execution_count": 58,
     "metadata": {},
     "output_type": "execute_result"
    }
   ],
   "source": [
    "np.exp(a)"
   ]
  },
  {
   "cell_type": "markdown",
   "metadata": {},
   "source": [
    "#solve for time t\n",
    "time take for counter to double C -> 2C is t'\n",
    "\n",
    "    2C = A0 + r^t'   -> (1)\n",
    "    C = A0 + r^t     -> (2)\n",
    "\n",
    "(1)/(2) 2C/C = A0 +r^t'/A0 + r^t\n",
    "\n",
    "        2 = r ^(t'-t)\n",
    "        \n",
    "        let log it\n",
    "        \n",
    "        log 2 = log r * (t'-t)\n",
    "        \n",
    "        (t'-t) = log 2/log r"
   ]
  },
  {
   "cell_type": "code",
   "execution_count": 59,
   "metadata": {},
   "outputs": [
    {
     "name": "stdout",
     "output_type": "stream",
     "text": [
      "time for transitor to double--> 2.074574817761514\n"
     ]
    }
   ],
   "source": [
    "print(\"time for transitor to double-->\",np.log(2)/a)"
   ]
  },
  {
   "cell_type": "code",
   "execution_count": 60,
   "metadata": {},
   "outputs": [
    {
     "name": "stdout",
     "output_type": "stream",
     "text": [
      "0.34168248738731316 17.764939393631764\n",
      "Time to double: 2.0286295205239195\n"
     ]
    }
   ],
   "source": [
    "#Analytical sol without model\n",
    "X = np.array(X).flatten()\n",
    "Y = np.array(Y)\n",
    "denominator = X.dot(X) - X.mean() * X.sum()\n",
    "a = ( X.dot(Y) - Y.mean()*X.sum() ) / denominator\n",
    "b = ( Y.mean() * X.dot(X) - X.mean() * X.dot(Y) ) / denominator\n",
    "print(a, b)\n",
    "print(\"Time to double:\", np.log(2) / a)"
   ]
  },
  {
   "cell_type": "code",
   "execution_count": 61,
   "metadata": {},
   "outputs": [
    {
     "data": {
      "text/plain": [
       "[<matplotlib.lines.Line2D at 0x7f3b3ce02ac8>]"
      ]
     },
     "execution_count": 61,
     "metadata": {},
     "output_type": "execute_result"
    },
    {
     "data": {
      "image/png": "[encoded data removed]",
      "text/plain": [
       "<Figure size 576x396 with 1 Axes>"
      ]
     },
     "metadata": {},
     "output_type": "display_data"
    }
   ],
   "source": [
    "#make prediction\n",
    "yhat = model.predict(X).flatten()\n",
    "plt.scatter(X,Y)\n",
    "plt.plot(X,yhat)\n"
   ]
  },
  {
   "cell_type": "code",
   "execution_count": 73,
   "metadata": {},
   "outputs": [
    {
     "data": {
      "text/plain": [
       "-27.19753086419746"
      ]
     },
     "execution_count": 73,
     "metadata": {},
     "output_type": "execute_result"
    }
   ],
   "source": [
    "year = 1975\n",
    "mean_year = year-x.mean()\n",
    "mean_year"
   ]
  },
  {
   "cell_type": "code",
   "execution_count": 74,
   "metadata": {},
   "outputs": [],
   "source": [
    "res = model.predict([mean_year])"
   ]
  },
  {
   "cell_type": "code",
   "execution_count": 75,
   "metadata": {},
   "outputs": [
    {
     "data": {
      "text/plain": [
       "5872.0464"
      ]
     },
     "execution_count": 75,
     "metadata": {},
     "output_type": "execute_result"
    }
   ],
   "source": [
    "np.exp(res[0,0])"
   ]
  },
  {
   "cell_type": "code",
   "execution_count": null,
   "metadata": {
    "collapsed": true
   },
   "outputs": [],
   "source": []
  }
 ],
 "metadata": {
  "kernelspec": {
   "display_name": "lazy_env",
   "language": "python",
   "name": "lazy_env"
  },
  "language_info": {
   "codemirror_mode": {
    "name": "ipython",
    "version": 3
   },
   "file_extension": ".py",
   "mimetype": "text/x-python",
   "name": "python",
   "nbconvert_exporter": "python",
   "pygments_lexer": "ipython3",
   "version": "3.6.9"
  }
 },
 "nbformat": 4,
 "nbformat_minor": 2
}
